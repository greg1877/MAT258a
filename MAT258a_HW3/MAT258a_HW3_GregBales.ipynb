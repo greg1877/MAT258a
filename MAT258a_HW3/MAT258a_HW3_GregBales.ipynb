{
 "cells": [
  {
   "cell_type": "code",
   "execution_count": 28,
   "metadata": {
    "collapsed": false
   },
   "outputs": [
    {
     "data": {
      "text/plain": [
       "newtmin_Toms566 (generic function with 1 method)"
      ]
     },
     "execution_count": 28,
     "metadata": {},
     "output_type": "execute_result"
    }
   ],
   "source": [
    "function newtmin_Toms566(p, maxIts, optTol)\n",
    "    # obj is a function that evaluates the objective value, \n",
    "    #    gradient and hessian a x.\n",
    "    # x0 is the starting point.\n",
    "    # maxIts = maximum interations\n",
    "    # optTol is the optimality tolerance on the gradient\n",
    "    \n",
    "    its = 1;\n",
    "    Tol = 0;\n",
    "    err = 0;\n",
    "    fault_count = 0;\n",
    "    \n",
    "    # calculate the gradient from the objective function.  In our case, \n",
    "    # these values will be calls to the functions in Toms566\n",
    "    x_k0 = p.x0;\n",
    "    g_k0 = p.grd(x_k0);\n",
    "    h_k0 = p.hes(x_k0);\n",
    "\n",
    "    # Start the Loop \n",
    "    for i=1:maxIts\n",
    "        # check for positive definiteness and full rank\n",
    "        if( (det(h_k0)<0) && (rank(h_k0)==p.n) )\n",
    "            # Spectral Decomposition of the Hessian\n",
    "            H_diag,H_eigMat = eig(h_k0);\n",
    "            # Replace all negative eigenvalues with their absolute value\n",
    "                for j=1:length(H_diag)\n",
    "                    if H_diag[j]<0\n",
    "                        H_diag[j]=(abs(H_diag[j]));\n",
    "                    end\n",
    "                end\n",
    "            h_k0 = H_eigMat*diagm(H_diag)*H_eigMat';\n",
    "            fault_count+=1;\n",
    "\n",
    "        end\n",
    "        \n",
    "        # Singular Hessian, exit the function\n",
    "        if((det(h_k0)<0) && !(rank(h_k0)==p.n) )  \n",
    "                err = 1;\n",
    "            break;\n",
    "        end\n",
    "        \n",
    "        #choose the Hessian/Modified Hessian\n",
    "        B = h_k0;\n",
    "        \n",
    "        step_k0 = B\\g_k0;\n",
    "                \n",
    "        #calculate the step length ----Armijo Backtracking \n",
    "        alpha = 1;\n",
    "        while( p.obj(x_k0-alpha*step_k0) > ( (p.obj(x_k0)) ) )\n",
    "            alpha=.5*alpha;\n",
    "            if alpha < ( 1e-3)\n",
    "                break;\n",
    "            end\n",
    "        end\n",
    "        \n",
    "        x_k1 = x_k0 - alpha*(step_k0);  \n",
    "        x_k0 = x_k1;\n",
    "        its+=1;\n",
    " \n",
    "        g_k0 = p.grd(x_k0);\n",
    "        h_k0 = p.hes(x_k0);\n",
    "        \n",
    "        Tol = norm(g_k0);\n",
    "        if Tol<optTol\n",
    "            break;\n",
    "        end\n",
    "    end\n",
    "    x = x_k0;\n",
    "    f = p.obj(x);\n",
    " \n",
    "    return(f,its,Tol,h_k0,err,fault_count,x,alpha);\n",
    "end"
   ]
  },
  {
   "cell_type": "code",
   "execution_count": 8,
   "metadata": {
    "collapsed": true
   },
   "outputs": [],
   "source": [
    "using Toms566"
   ]
  },
  {
   "cell_type": "code",
   "execution_count": 42,
   "metadata": {
    "collapsed": false
   },
   "outputs": [
    {
     "data": {
      "text/plain": [
       "(1.5759345474536323e-28,12,7.266682824072423e-15,\n",
       "3x3 Array{Float64,2}:\n",
       "  1.75192    -0.0298636    2.93685 \n",
       " -0.0298636   0.00475359  -0.113362\n",
       "  2.93685    -0.113362     6.12801 ,\n",
       "\n",
       "0,2,[0.999999999999949,10.000000000000414,1.0000000000000322],1)"
      ]
     },
     "execution_count": 42,
     "metadata": {},
     "output_type": "execute_result"
    }
   ],
   "source": [
    "p=Problem(5)\n",
    "n=p.n\n",
    "f,its,Tol,h_k0,err,fault_count,x,alpha = newtmin_Toms566(p,30000,1e-10)"
   ]
  },
  {
   "cell_type": "code",
   "execution_count": 44,
   "metadata": {
    "collapsed": true
   },
   "outputs": [],
   "source": [
    "A = convert(Array{Float64,2},readcsv(\"binary.csv\")[2:end,:][:,1:3]);\n",
    "using ForwardDiff\n",
    "\n",
    "function L(x,u)\n",
    "    a = x[1:2]; β = x[3];\n",
    "    uᵢ = u[2:3]; yᵢ = u[1]\n",
    "    return -yᵢ*(vecdot(a,uᵢ) + β) + log(1 + exp(vecdot(a,uᵢ) + β))\n",
    "end;\n",
    "\n",
    "G(x,ui) = ForwardDiff.gradient(x -> L(x,ui))(x);\n",
    "H(x,ui) = ForwardDiff.hessian(x -> L(x,ui))(x);\n",
    "m = size(A,1);\n",
    "H(x) = sum([H(x, A[i,:]) for i in 1:m]);\n",
    "L(x) = sum([L(x, A[i,:]) for i in 1:m]);\n",
    "G(x) = sum([G(x, A[i,:]) for i in 1:m]);"
   ]
  },
  {
   "cell_type": "code",
   "execution_count": 26,
   "metadata": {
    "collapsed": false
   },
   "outputs": [
    {
     "data": {
      "text/plain": [
       "newtmin_LogReg (generic function with 1 method)"
      ]
     },
     "execution_count": 26,
     "metadata": {},
     "output_type": "execute_result"
    }
   ],
   "source": [
    "function newtmin_LogReg(f, x_k0, maxIts, optTol)\n",
    "    # obj is a function that evaluates the objective value, gradient and hessian at x.\n",
    "    # x0 is the starting point.\n",
    "    # maxIts = maximum interations\n",
    "    # optTol is the optimality tolerance on the gradient\n",
    "    \n",
    "    its = 1;\n",
    "    Tol = 0;\n",
    "    err = 0;\n",
    "    fault_count = 0;\n",
    "       \n",
    "    # intial values of the function\n",
    "    x = x_k0;\n",
    "    \n",
    "    # calculate the gradient, hessian and objective at x \n",
    "    (f_k0, g_k0, h_k0) = f(x);\n",
    "      \n",
    "    # Start the Loop \n",
    "    for i=1:maxIts\n",
    "        # check for positive definiteness and full rank\n",
    "        if( (det(h_k0)<0) && (rank(h_k0)==3) )\n",
    "            # Spectral Decomposition of the Hessian\n",
    "            H_diag,H_eigMat = eig(h_k0);\n",
    "            # Replace all negative eigenvalues with their absolute value\n",
    "                for j=1:length(H_diag)\n",
    "                    if H_diag[j]<0\n",
    "                        H_diag[j]=(abs(H_diag[j]));\n",
    "                    end\n",
    "                end\n",
    "            h_k0 = H_eigMat*diagm(H_diag)*H_eigMat';\n",
    "            fault_count+=1;\n",
    "\n",
    "       end\n",
    "        # Singular Hessian, exit the function\n",
    "        if((det(h_k0)<0) && !(rank(h_k0)==3) )  \n",
    "                err = 1;\n",
    "            break;\n",
    "        end\n",
    "        \n",
    "        #choose the Hessian/Modified Hessian\n",
    "        B = h_k0;\n",
    "        \n",
    "        step_k0 = B\\g_k0;\n",
    "                \n",
    "        #calculate the step length ----Armijo Backtracking \n",
    "        alpha = 1;\n",
    "        x=x_k0-alpha*step_k0;\n",
    "        (f_k1, g_k1, h_k1) = f(x);\n",
    "        while( f_k1 > f_k0 )\n",
    "            alpha=.5*alpha;\n",
    "            x=x_k0-alpha*step_k0;\n",
    "            (f_k1, g_k1, h_k1) = f(x);\n",
    "            if alpha < ( 1e-2)\n",
    "                break;\n",
    "            end\n",
    "        end\n",
    "        \n",
    "        x_k1 = x_k0 - alpha*(step_k0);  \n",
    "        x_k0 = x_k1;\n",
    "        its+=1;\n",
    " \n",
    "        x=x_k0;\n",
    "        (f_k0, g_k0, h_k0) = f(x);\n",
    "        \n",
    "        Tol = norm(g_k0);\n",
    "        if Tol<optTol\n",
    "            break;\n",
    "        end\n",
    "    end\n",
    "    x_out = x_k0;\n",
    "    f_out = f_k0;\n",
    " \n",
    "    return(f_out,its,Tol,h_k0,err,fault_count,x_out);\n",
    "end"
   ]
  },
  {
   "cell_type": "code",
   "execution_count": 43,
   "metadata": {
    "collapsed": false
   },
   "outputs": [
    {
     "data": {
      "text/plain": [
       "(240.17199084241437,6,3.242144089428076e-12,\n",
       "3x3 Array{Float64,2}:\n",
       "     3.11768e7    1.72965e5  49888.3   \n",
       "     1.72965e5  989.84         284.17  \n",
       " 49888.3        284.17          82.5031,\n",
       "\n",
       "0,0,[0.0026906835959642976,0.7546868559629449,-4.949378062622567])"
      ]
     },
     "execution_count": 43,
     "metadata": {},
     "output_type": "execute_result"
    }
   ],
   "source": [
    "f_out,its,Tol,h_k0,err,fault_count,x_out = newtmin_LogReg( x -> (L(x), G(x), H(x)) , zeros(3), 100, 1e-6)"
   ]
  },
  {
   "cell_type": "code",
   "execution_count": null,
   "metadata": {
    "collapsed": true
   },
   "outputs": [],
   "source": []
  }
 ],
 "metadata": {
  "kernelspec": {
   "display_name": "Julia 0.4.0",
   "language": "julia",
   "name": "julia-0.4"
  },
  "language_info": {
   "file_extension": ".jl",
   "mimetype": "application/julia",
   "name": "julia",
   "version": "0.4.0"
  }
 },
 "nbformat": 4,
 "nbformat_minor": 0
}
