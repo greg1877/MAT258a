{
 "cells": [
  {
   "cell_type": "code",
   "execution_count": 23,
   "metadata": {
    "collapsed": false
   },
   "outputs": [
    {
     "data": {
      "text/plain": [
       "newtmin_BFGS (generic function with 1 method)"
      ]
     },
     "execution_count": 23,
     "metadata": {},
     "output_type": "execute_result"
    }
   ],
   "source": [
    "function newtmin_BFGS(p, maxIts, optTol)\n",
    "    # obj is a function that evaluates the objective value, \n",
    "    #    gradient and hessian a x.\n",
    "    # x0 is the starting point.\n",
    "    # maxIts = maximum interations\n",
    "    # optTol is the optimality tolerance on the gradient\n",
    "    \n",
    "    its = 1;\n",
    "    Tol = 0;\n",
    "    err = 0;\n",
    "    fault_count = 0;\n",
    "    \n",
    "    # calculate the gradient from the objective function.  In our case, \n",
    "    # these values will be calls to the functions in Toms566\n",
    "    x_k0 = p.x0;\n",
    "    n = p.n;\n",
    "    h_k0 = p.hes(x_k0);\n",
    "    delta = 1;\n",
    "    tolFactor = optTol*norm(p.grd(x_k0));\n",
    "    \n",
    "    #initial guess of hessian.  Make sure that the matrix is positive definite\n",
    "    if((det(h_k0)<0) || !(rank(h_k0)==3) )  \n",
    "        H_diag,H_eigMat = eig(h_k0);\n",
    "            for j=1:length(H_diag)\n",
    "                if H_diag[j]<0\n",
    "                    # Replace all negative eigenvalues with their absolute value\n",
    "                    H_diag[j]=(abs(H_diag[j]));\n",
    "                elseif H_diag[j]==0\n",
    "                    # Replace all zero eigenvalues with delta\n",
    "                    H_diag[j]=delta;\n",
    "                end\n",
    "            end\n",
    "            B_k0 = H_eigMat*diagm(H_diag)*H_eigMat';\n",
    "    else  B_k0 = h_k0;     \n",
    "    end\n",
    "\n",
    "    # Start the Loop \n",
    "    for i=1:maxIts\n",
    "        # check for positive definiteness and full rank\n",
    "        g_k0 = p.grd(x_k0);\n",
    "        \n",
    "        Tol = norm(g_k0);\n",
    "        if Tol<tolFactor\n",
    "            break;\n",
    "        end\n",
    "        step_k0 = B_k0\\g_k0;\n",
    "                \n",
    "        #calculate the step length ----Armijo Backtracking \n",
    "        alpha = 1;\n",
    "        while( p.obj(x_k0-alpha*step_k0) > ( (p.obj(x_k0)) ) )\n",
    "            alpha=.5*alpha;\n",
    "            if alpha < ( 1e-4)\n",
    "                break;\n",
    "            end\n",
    "        end\n",
    "        \n",
    "        x_k1 = x_k0 - alpha*(step_k0);\n",
    "        g_k1 = p.grd(x_k1);\n",
    "        y = g_k1 - g_k0;\n",
    "        s = x_k1 - x_k0;\n",
    "        \n",
    "        #BFGS Update\n",
    "        dB = (y*y')/dot(s,y) - (B_k0*(s*s')*B_k0)/dot(s,B_k0*s);\n",
    "        \n",
    "        B_k0 = B_k0 + dB;\n",
    "        \n",
    "        x_k0 = x_k1;\n",
    "        its+=1;\n",
    " \n",
    "    end\n",
    "    x = x_k0;\n",
    "    f = p.obj(x);\n",
    "    B = B_k0;\n",
    " \n",
    "    return(f,its,Tol,B,x);\n",
    "end"
   ]
  },
  {
   "cell_type": "code",
   "execution_count": 2,
   "metadata": {
    "collapsed": false
   },
   "outputs": [
    {
     "name": "stderr",
     "output_type": "stream",
     "text": [
      "INFO: Testing Toms566\n"
     ]
    },
    {
     "name": "stdout",
     "output_type": "stream",
     "text": [
      "No.  Name                             n        f(x0)     |∇f(x0)| cond(∇²f(x0))\n",
      "  "
     ]
    },
    {
     "name": "stderr",
     "output_type": "stream",
     "text": [
      "INFO: Toms566 tests passed\n"
     ]
    },
    {
     "name": "stdout",
     "output_type": "stream",
     "text": [
      "1  Hellical valley                  3     2.50e+03     1.88e+03     9.82e+00\n",
      "  2  Bigg's EXP6                      6     7.79e-01     2.55e+00     1.30e+01\n",
      "  3  Gaussian                         3     3.89e-06     7.45e-03     5.10e+01\n",
      "  4  Powell                           2     1.14e+00     2.00e+04     1.37e+08\n",
      "  5  Box 3-dim                        3     1.03e+03     1.49e+02     1.19e+02\n",
      "  6  Variably dimensioned            40     9.39e+10     1.01e+11     1.65e+04\n",
      "  7  Watson                           9     3.00e+01     1.78e+02     1.63e+02\n",
      "  8  Penalty I                       60     5.45e+09     8.02e+07     4.24e+00\n",
      "  9  Penalty II                      65     2.87e+05     3.28e+05     9.84e+01\n",
      " 10  Brown badly scaled               2     1.00e+12     2.00e+06     1.00e+00\n",
      " 11  Brown and Denis                  4     7.93e+06     2.14e+06     6.93e+02\n",
      " 12  Gulf research and development    3     1.21e+01     3.97e+01     4.65e+04\n",
      " 13  Trigonometric                   40     2.01e-03     5.30e-02     1.57e+02\n",
      " 14  Extended rosenbrock             40     4.84e+02     1.04e+03     9.90e+01\n",
      " 15  Extended Powell singular        60     3.23e+03     1.78e+03     2.27e+01\n",
      " 16  Beale                            2     1.42e+01     2.78e+01     7.97e+00\n",
      " 17  Wood                             4     1.92e+04     1.64e+04     1.69e+02\n",
      " 18  Chebyquad                       50     1.39e-02     2.65e+00     6.30e+02\n"
     ]
    }
   ],
   "source": [
    "Pkg.test(\"Toms566\")"
   ]
  },
  {
   "cell_type": "code",
   "execution_count": 4,
   "metadata": {
    "collapsed": true
   },
   "outputs": [],
   "source": [
    "using Toms566"
   ]
  },
  {
   "cell_type": "code",
   "execution_count": 25,
   "metadata": {
    "collapsed": false,
    "scrolled": true
   },
   "outputs": [
    {
     "data": {
      "text/plain": [
       "(5.235590508522748e-18,124,5.282324573060972e-9,\n",
       "6x6 Array{Float64,2}:\n",
       "  2.4526    -0.141421  -3.62049    0.129759   0.904946  -0.740501\n",
       " -0.141421   0.119284   0.736984  -0.183717  -0.211377   0.435184\n",
       " -3.62049    0.736984   8.17384   -0.979152  -2.28805    3.02939 \n",
       "  0.129759  -0.183717  -0.979152   0.32094    0.253511  -0.661753\n",
       "  0.904946  -0.211377  -2.28805    0.253511   0.692059  -0.872698\n",
       " -0.740501   0.435184   3.02939   -0.661753  -0.872698   1.63114 ,\n",
       "\n",
       "[1.0000000548300119,9.99999983452826,1.000000085501594,5.000000191065231,4.000000228835369,3.000000108356552])"
      ]
     },
     "execution_count": 25,
     "metadata": {},
     "output_type": "execute_result"
    }
   ],
   "source": [
    "p = Problem(2)\n",
    "f,its,Tol,B,x = newtmin_BFGS(p, 2000, 1e-8)"
   ]
  },
  {
   "cell_type": "code",
   "execution_count": null,
   "metadata": {
    "collapsed": true
   },
   "outputs": [],
   "source": []
  }
 ],
 "metadata": {
  "kernelspec": {
   "display_name": "Julia 0.4.0",
   "language": "julia",
   "name": "julia-0.4"
  },
  "language_info": {
   "file_extension": ".jl",
   "mimetype": "application/julia",
   "name": "julia",
   "version": "0.4.0"
  }
 },
 "nbformat": 4,
 "nbformat_minor": 0
}
